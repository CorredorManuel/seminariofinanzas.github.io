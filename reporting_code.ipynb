{
 "cells": [
  {
   "cell_type": "code",
   "execution_count": null,
   "metadata": {},
   "outputs": [],
   "source": [
    "import yfinance as yf\n",
    "from datetime import datetime, timedelta\n",
    "from pandas.tseries.offsets import BDay\n",
    "\n",
    "# Configuración\n",
    "symbol = \"BNS\"\n",
    "earnings_dates = [\n",
    "    \"2020-12-01\", \"2021-02-23\", \"2021-06-01\", \"2021-08-24\",\n",
    "    \"2021-11-30\", \"2022-03-01\", \"2022-05-25\", \"2022-08-23\",\n",
    "    \"2022-11-29\", \"2023-02-28\", \"2023-05-24\"\n",
    "]\n",
    "\n",
    "percentage_changes = []  # Lista para almacenar las variaciones porcentuales\n",
    "\n",
    "for earnings_date_str in earnings_dates:\n",
    "    earnings_date = datetime.strptime(earnings_date_str, \"%Y-%m-%d\")\n",
    "    end_date = earnings_date + BDay(5)\n",
    "    \n",
    "    data = yf.download(symbol, start=earnings_date, end=end_date)\n",
    "    \n",
    "    initial_price = data[\"Close\"].iloc[0]\n",
    "    final_price = data[\"Close\"].iloc[-1]\n",
    "    \n",
    "    percentage_change = ((final_price - initial_price) / initial_price) * 100\n",
    "    percentage_changes.append(percentage_change)\n",
    "    \n",
    "    print(f\"Fecha de reporte: {earnings_date_str}\")\n",
    "    print(f\"Fecha de CIERRE: {end_date}\")\n",
    "    print(f\"Precio inicial: {initial_price:.2f}\")\n",
    "    print(f\"Precio final: {final_price:.2f}\")\n",
    "    print(f\"Variación porcentual: {percentage_change:.2f}%\")\n",
    "    print(\"------------------------\")\n",
    "\n",
    "# Calcular el promedio de las variaciones porcentuales\n",
    "average_percentage_change = sum(percentage_changes) / len(percentage_changes)\n",
    "\n",
    "print(f\"Promedio de variaciones porcentuales: {average_percentage_change:.2f}%\")"
   ]
  }
 ],
 "metadata": {
  "language_info": {
   "name": "python"
  },
  "orig_nbformat": 4
 },
 "nbformat": 4,
 "nbformat_minor": 2
}
